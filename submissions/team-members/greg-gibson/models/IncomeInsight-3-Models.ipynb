{
 "cells": [
  {
   "cell_type": "markdown",
   "id": "a7bc2420",
   "metadata": {},
   "source": [
    "# IncomeInsight: Global Higher-Education Cost Analytics & Planning\n",
    "## Phase 2: Model Development\n",
    "\n",
    "**Project:** EduSpend - Global Higher-Education Cost Analytics & Planning  \n",
    "**Author:** yan-cotta  \n",
    "**Date:** June 7, 2025  \n",
    "**Phase:** 2 - Model Development  \n",
    "\n",
    "### Project Overview\n",
    "This notebook builds on our EDA findings to develop a predictive model for Total Cost of Attendance (TCA). We'll create a regression model that can predict education costs based on various factors like location, degree level, and living cost indices.\n",
    "\n",
    "### Notebook Goals\n",
    "1. Prepare data and engineer relevant features\n",
    "2. Develop a baseline regression model\n",
    "3. Evaluate model performance and identify key predictive features\n",
    "4. Refine the model for improved prediction accuracy"
   ]
  },
  {
   "cell_type": "code",
   "execution_count": 2,
   "id": "fe6272ef",
   "metadata": {},
   "outputs": [],
   "source": [
    "# Import data manipulation libraries\n",
    "import pandas as pd\n",
    "import numpy as np\n",
    "import matplotlib.pyplot as plt\n",
    "import seaborn as sns\n",
    "import os\n",
    "import pickle\n",
    "\n",
    "# Import modeling libraries\n",
    "from sklearn.model_selection import train_test_split, cross_val_score, GridSearchCV\n",
    "from sklearn.preprocessing import OneHotEncoder, StandardScaler, MinMaxScaler, OrdinalEncoder\n",
    "from sklearn.compose import ColumnTransformer\n",
    "from sklearn.pipeline import Pipeline\n",
    "from sklearn.ensemble import RandomForestRegressor, GradientBoostingRegressor\n",
    "from sklearn.metrics import mean_absolute_error, mean_squared_error, r2_score\n",
    "import xgboost as xgb\n",
    "\n",
    "# Import MLflow for experiment tracking\n",
    "import mlflow.sklearn\n",
    "from mlflow.tracking import MlflowClient\n",
    "\n",
    "# Suppress warnings\n",
    "import warnings\n",
    "warnings.filterwarnings('ignore')\n",
    "\n",
    "# Set display options\n",
    "pd.set_option('display.max_columns', None)\n",
    "pd.set_option('display.width', None)\n",
    "\n",
    "# Set plotting style\n",
    "plt.style.use('default')\n",
    "sns.set_palette(\"viridis\")"
   ]
  },
  {
   "cell_type": "markdown",
   "id": "ed0b0d25",
   "metadata": {},
   "source": [
    "### MLflow Setup\n",
    "\n",
    "Configure MLflow for experiment tracking to monitor model training process, log parameters, metrics, and artifacts"
   ]
  },
  {
   "cell_type": "code",
   "execution_count": null,
   "id": "e5793290",
   "metadata": {},
   "outputs": [],
   "source": [
    "# Set MLflow tracking URI (local for now)\n",
    "mlflow.set_tracking_uri(\"file:./mlruns\")\n",
    "mlflow.set_experiment(\"IncomeInsight_>50K_Prediction\")\n",
    "\n",
    "print(\"MLflow Configuration:\")\n",
    "print(f\"✓ Tracking URI: {mlflow.get_tracking_uri()}\")\n",
    "print(f\"✓ Experiment: {mlflow.get_experiment_by_name('IncomeInsight_>50K_Prediction')}\")"
   ]
  },
  {
   "cell_type": "code",
   "execution_count": null,
   "id": "de3263e2",
   "metadata": {},
   "outputs": [],
   "source": [
    "df = pd.read_csv('../data/adult_cleaned.csv')\n",
    "\n",
    "# Apply binary mapping\n",
    "df = map_binary_columns(df)\n",
    "\n",
    "# Separate target\n",
    "X = df.drop(columns='income')\n",
    "y = df['income']\n",
    "\n",
    "# Build preprocessor\n",
    "preprocessor = build_preprocessor()\n",
    "\n",
    "# Use it in a full modeling pipeline\n",
    "from sklearn.pipeline import Pipeline\n",
    "from sklearn.linear_model import LogisticRegression\n",
    "\n",
    "model_pipeline = Pipeline([\n",
    "    ('preprocessing', preprocessor),\n",
    "    ('classifier', LogisticRegression(max_iter=1000))\n",
    "])"
   ]
  },
  {
   "cell_type": "code",
   "execution_count": null,
   "id": "f8910132",
   "metadata": {},
   "outputs": [],
   "source": [
    "df = pd.read_csv('../data/adult_cleaned.csv')"
   ]
  },
  {
   "cell_type": "code",
   "execution_count": null,
   "id": "9c88895f",
   "metadata": {},
   "outputs": [],
   "source": [
    "# Fit and transform\n",
    "df_transformed = pipeline.fit_transform(df)"
   ]
  },
  {
   "cell_type": "code",
   "execution_count": null,
   "id": "af7439a9",
   "metadata": {},
   "outputs": [],
   "source": [
    "\n",
    "# Final pipeline\n",
    "pipeline = Pipeline(steps=[\n",
    "    ('preprocessor', preprocessor)\n",
    "])\n",
    "\n",
    "\n",
    "\n",
    "dump(pipeline, '../models/pipeline.pkl')"
   ]
  }
 ],
 "metadata": {
  "kernelspec": {
   "display_name": "venv (3.13.5)",
   "language": "python",
   "name": "python3"
  },
  "language_info": {
   "codemirror_mode": {
    "name": "ipython",
    "version": 3
   },
   "file_extension": ".py",
   "mimetype": "text/x-python",
   "name": "python",
   "nbconvert_exporter": "python",
   "pygments_lexer": "ipython3",
   "version": "3.13.6"
  }
 },
 "nbformat": 4,
 "nbformat_minor": 5
}
